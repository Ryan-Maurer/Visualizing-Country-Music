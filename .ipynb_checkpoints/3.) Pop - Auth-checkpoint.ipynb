{
 "cells": [
  {
   "cell_type": "code",
   "execution_count": 1,
   "id": "778eb9bb",
   "metadata": {},
   "outputs": [],
   "source": [
    "import spotipy\n",
    "import spotipy.oauth2 as oauth2\n",
    "from spotipy.oauth2 import SpotifyOAuth\n",
    "from spotipy.oauth2 import SpotifyClientCredentials\n",
    "import pandas as pd\n",
    "import time\n",
    "import pprint"
   ]
  },
  {
   "cell_type": "code",
   "execution_count": 2,
   "id": "cfc4c1e6",
   "metadata": {},
   "outputs": [],
   "source": [
    "#read in text"
   ]
  },
  {
   "cell_type": "code",
   "execution_count": 3,
   "id": "150f8c33",
   "metadata": {},
   "outputs": [],
   "source": [
    "with open('./data/spotify_creds.txt') as f:\n",
    "    client_id = f.read().splitlines()[:1]"
   ]
  },
  {
   "cell_type": "code",
   "execution_count": 4,
   "id": "e36f887e",
   "metadata": {},
   "outputs": [],
   "source": [
    "client_id = client_id[0]"
   ]
  },
  {
   "cell_type": "code",
   "execution_count": 5,
   "id": "dc806002",
   "metadata": {},
   "outputs": [],
   "source": [
    "with open('./data/spotify_creds.txt') as f:\n",
    "    client_secret = f.readlines()[1:]"
   ]
  },
  {
   "cell_type": "code",
   "execution_count": 6,
   "id": "32eda7ce",
   "metadata": {},
   "outputs": [],
   "source": [
    "client_secret = client_secret[0]"
   ]
  },
  {
   "cell_type": "code",
   "execution_count": 7,
   "id": "d0fff6d1",
   "metadata": {},
   "outputs": [],
   "source": [
    "auth_manager = SpotifyClientCredentials(client_id = client_id,\n",
    "                                       client_secret = client_secret)"
   ]
  },
  {
   "cell_type": "code",
   "execution_count": 8,
   "id": "0b5d294e",
   "metadata": {},
   "outputs": [],
   "source": [
    "sp = spotipy.Spotify(auth_manager = auth_manager)"
   ]
  },
  {
   "cell_type": "code",
   "execution_count": 9,
   "id": "efbb96d8",
   "metadata": {
    "scrolled": true
   },
   "outputs": [],
   "source": [
    "def getTrackIDs(user,playlist_id):\n",
    "    track_ids = []\n",
    "    playlist = sp.user_playlist(user,playlist_id)\n",
    "    for item in playlist['tracks']['items']:\n",
    "        track = item['track']\n",
    "        track_ids.append(track['id'])\n",
    "    return track_ids"
   ]
  },
  {
   "cell_type": "code",
   "execution_count": 10,
   "id": "880106fe",
   "metadata": {},
   "outputs": [],
   "source": [
    "def getTrackFeatures(id):\n",
    "    track_info = sp.track(id)\n",
    "    features_info = sp.audio_features(id)\n",
    "#Track info\n",
    "    name = track_info['name']\n",
    "    album = track_info['album']['name']\n",
    "    artist = track_info['album']['artists'][0]['name']\n",
    "    release_date = track_info['album']['release_date']\n",
    "    length = track_info['duration_ms']\n",
    "    popularity = track_info['popularity']\n",
    "#Track Features\n",
    "    acousticness = features_info[0]['acousticness']\n",
    "    danceability = features_info[0]['danceability']\n",
    "    energy = features_info[0]['energy']\n",
    "    instrumentalness = features_info[0]['instrumentalness']\n",
    "    liveness = features_info[0]['liveness']\n",
    "    loudness = features_info[0]['loudness']\n",
    "    speechiness = features_info[0]['speechiness']\n",
    "    tempo = features_info[0]['tempo']\n",
    "    valence = features_info[0]['valence']\n",
    "    key = features_info[0]['key']\n",
    "    time_signature = features_info[0]['time_signature']\n",
    "#playlist name\n",
    "    track_data = [name,album,artist,release_date,length,popularity,acousticness,danceability,energy,\n",
    "              instrumentalness,liveness,loudness,speechiness,tempo,valence,key,time_signature]\n",
    "    return track_data"
   ]
  },
  {
   "cell_type": "code",
   "execution_count": 11,
   "id": "31bd9754",
   "metadata": {},
   "outputs": [],
   "source": [
    "track_ids_pop_1960 = getTrackIDs('spotify','3Io0dNBDnmDR4sLTbbbYhl')\n",
    "\n",
    "track_list = []\n",
    "for i in range(len(track_ids_pop_1960)):\n",
    "    time.sleep(.3)\n",
    "    track_data = getTrackFeatures(track_ids_pop_1960[i])\n",
    "    track_list.append(track_data)\n",
    "pop_1960s = pd.DataFrame(track_list,columns = ['name','album','artist','release_date','length',\n",
    "                                                   'popularity','acousticness','danceability','energy',\n",
    "                                                   'instrumentalness','liveness','loudness',\n",
    "                                                   'speechiness','tempo','valence','key','time_signature'])"
   ]
  },
  {
   "cell_type": "code",
   "execution_count": 12,
   "id": "2848a94b",
   "metadata": {},
   "outputs": [],
   "source": [
    "track_ids_pop_1970 = getTrackIDs('spotify','367bIh6ggxieEj9gAcAve0')\n",
    "\n",
    "track_list = []\n",
    "for i in range(len(track_ids_pop_1970)):\n",
    "    time.sleep(.3)\n",
    "    track_data = getTrackFeatures(track_ids_pop_1970[i])\n",
    "    track_list.append(track_data)\n",
    "pop_1970s = pd.DataFrame(track_list,columns = ['name','album','artist','release_date','length',\n",
    "                                                   'popularity','acousticness','danceability','energy',\n",
    "                                                   'instrumentalness','liveness','loudness',\n",
    "                                                   'speechiness','tempo','valence','key','time_signature'])"
   ]
  },
  {
   "cell_type": "code",
   "execution_count": 13,
   "id": "b6bf79cb",
   "metadata": {},
   "outputs": [],
   "source": [
    "track_ids_pop_1980 = getTrackIDs('spotify','367bIh6ggxieEj9gAcAve0')\n",
    "\n",
    "track_list = []\n",
    "for i in range(len(track_ids_pop_1980)):\n",
    "    time.sleep(.3)\n",
    "    track_data = getTrackFeatures(track_ids_pop_1980[i])\n",
    "    track_list.append(track_data)\n",
    "pop_1980s = pd.DataFrame(track_list,columns = ['name','album','artist','release_date','length',\n",
    "                                                   'popularity','acousticness','danceability','energy',\n",
    "                                                   'instrumentalness','liveness','loudness',\n",
    "                                                   'speechiness','tempo','valence','key','time_signature'])"
   ]
  },
  {
   "cell_type": "code",
   "execution_count": 14,
   "id": "895c9145",
   "metadata": {},
   "outputs": [],
   "source": [
    "track_ids_pop_1990 = getTrackIDs('spotify','7kGFrIX0pDL7TdUL94XnEe')\n",
    "\n",
    "track_list = []\n",
    "for i in range(len(track_ids_pop_1990)):\n",
    "    time.sleep(.3)\n",
    "    track_data = getTrackFeatures(track_ids_pop_1990[i])\n",
    "    track_list.append(track_data)\n",
    "pop_1990s = pd.DataFrame(track_list,columns = ['name','album','artist','release_date','length',\n",
    "                                                   'popularity','acousticness','danceability','energy',\n",
    "                                                   'instrumentalness','liveness','loudness',\n",
    "                                                   'speechiness','tempo','valence','key','time_signature'])"
   ]
  },
  {
   "cell_type": "code",
   "execution_count": 15,
   "id": "657d11ca",
   "metadata": {},
   "outputs": [],
   "source": [
    "track_ids_pop_2000 = getTrackIDs('spotify','3xkgNIvPvw69nTpAkZWToV')\n",
    "\n",
    "track_list = []\n",
    "for i in range(len(track_ids_pop_2000)):\n",
    "    time.sleep(.3)\n",
    "    track_data = getTrackFeatures(track_ids_pop_2000[i])\n",
    "    track_list.append(track_data)\n",
    "pop_2000s = pd.DataFrame(track_list,columns = ['name','album','artist','release_date','length',\n",
    "                                                   'popularity','acousticness','danceability','energy',\n",
    "                                                   'instrumentalness','liveness','loudness',\n",
    "                                                   'speechiness','tempo','valence','key','time_signature'])"
   ]
  },
  {
   "cell_type": "code",
   "execution_count": 16,
   "id": "52056330",
   "metadata": {},
   "outputs": [],
   "source": [
    "track_ids_pop_2010 = getTrackIDs('spotify','2cV2EltqchhsfwDbFjOOkJ')\n",
    "\n",
    "track_list = []\n",
    "for i in range(len(track_ids_pop_2010)):\n",
    "    time.sleep(.3)\n",
    "    track_data = getTrackFeatures(track_ids_pop_2010[i])\n",
    "    track_list.append(track_data)\n",
    "pop_2010s = pd.DataFrame(track_list,columns = ['name','album','artist','release_date','length',\n",
    "                                                   'popularity','acousticness','danceability','energy',\n",
    "                                                   'instrumentalness','liveness','loudness',\n",
    "                                                   'speechiness','tempo','valence','key','time_signature'])"
   ]
  },
  {
   "cell_type": "code",
   "execution_count": 17,
   "id": "78ce2cbb",
   "metadata": {},
   "outputs": [],
   "source": [
    "track_ids_pop_2020 = getTrackIDs('spotify','1RFasn12lPqAfUoUuckrlv')\n",
    "\n",
    "track_list = []\n",
    "for i in range(len(track_ids_pop_2020)):\n",
    "    time.sleep(.3)\n",
    "    track_data = getTrackFeatures(track_ids_pop_2020[i])\n",
    "    track_list.append(track_data)\n",
    "pop_2020 = pd.DataFrame(track_list,columns = ['name','album','artist','release_date','length',\n",
    "                                                   'popularity','acousticness','danceability','energy',\n",
    "                                                   'instrumentalness','liveness','loudness',\n",
    "                                                   'speechiness','tempo','valence','key','time_signature'])"
   ]
  },
  {
   "cell_type": "code",
   "execution_count": 18,
   "id": "e6890743",
   "metadata": {},
   "outputs": [],
   "source": [
    "pop_1960s['playlist'] = '1960s'\n",
    "pop_1970s['playlist'] = '1970s'\n",
    "pop_1980s['playlist'] = '1980s'\n",
    "pop_1990s['playlist'] = '1990s'\n",
    "pop_2000s['playlist'] = '2000s'\n",
    "pop_2010s['playlist'] = '2010s'\n",
    "pop_2020['playlist'] = '2020'"
   ]
  },
  {
   "cell_type": "code",
   "execution_count": 19,
   "id": "a8df7dc7",
   "metadata": {},
   "outputs": [],
   "source": [
    "pop_comb = pd.concat([pop_1960s,\n",
    "                      pop_1970s,\n",
    "                      pop_1980s,\n",
    "                      pop_1990s,\n",
    "                      pop_2000s,\n",
    "                      pop_2010s,\n",
    "                      pop_2020])"
   ]
  },
  {
   "cell_type": "code",
   "execution_count": 20,
   "id": "63aeabb9",
   "metadata": {},
   "outputs": [],
   "source": [
    "#pop_comb.to_csv(\"Visualizing-Country-Music.csv\")"
   ]
  },
  {
   "cell_type": "code",
   "execution_count": 21,
   "id": "81d6d716",
   "metadata": {},
   "outputs": [
    {
     "data": {
      "text/html": [
       "<div>\n",
       "<style scoped>\n",
       "    .dataframe tbody tr th:only-of-type {\n",
       "        vertical-align: middle;\n",
       "    }\n",
       "\n",
       "    .dataframe tbody tr th {\n",
       "        vertical-align: top;\n",
       "    }\n",
       "\n",
       "    .dataframe thead th {\n",
       "        text-align: right;\n",
       "    }\n",
       "</style>\n",
       "<table border=\"1\" class=\"dataframe\">\n",
       "  <thead>\n",
       "    <tr style=\"text-align: right;\">\n",
       "      <th></th>\n",
       "      <th>name</th>\n",
       "      <th>album</th>\n",
       "      <th>artist</th>\n",
       "      <th>release_date</th>\n",
       "      <th>length</th>\n",
       "      <th>popularity</th>\n",
       "      <th>acousticness</th>\n",
       "      <th>danceability</th>\n",
       "      <th>energy</th>\n",
       "      <th>instrumentalness</th>\n",
       "      <th>liveness</th>\n",
       "      <th>loudness</th>\n",
       "      <th>speechiness</th>\n",
       "      <th>tempo</th>\n",
       "      <th>valence</th>\n",
       "      <th>key</th>\n",
       "      <th>time_signature</th>\n",
       "      <th>playlist</th>\n",
       "    </tr>\n",
       "  </thead>\n",
       "  <tbody>\n",
       "    <tr>\n",
       "      <th>0</th>\n",
       "      <td>Hey Jude - Remastered 2015</td>\n",
       "      <td>1 (Remastered)</td>\n",
       "      <td>The Beatles</td>\n",
       "      <td>2000-11-13</td>\n",
       "      <td>425653</td>\n",
       "      <td>77</td>\n",
       "      <td>0.0112</td>\n",
       "      <td>0.386</td>\n",
       "      <td>0.607</td>\n",
       "      <td>0.000014</td>\n",
       "      <td>0.0880</td>\n",
       "      <td>-7.700</td>\n",
       "      <td>0.0261</td>\n",
       "      <td>147.207</td>\n",
       "      <td>0.532</td>\n",
       "      <td>10</td>\n",
       "      <td>4</td>\n",
       "      <td>1960s</td>\n",
       "    </tr>\n",
       "    <tr>\n",
       "      <th>1</th>\n",
       "      <td>(I Can't Get No) Satisfaction - Mono Version</td>\n",
       "      <td>Out Of Our Heads</td>\n",
       "      <td>The Rolling Stones</td>\n",
       "      <td>1965-07-30</td>\n",
       "      <td>222813</td>\n",
       "      <td>79</td>\n",
       "      <td>0.0383</td>\n",
       "      <td>0.723</td>\n",
       "      <td>0.863</td>\n",
       "      <td>0.031700</td>\n",
       "      <td>0.1280</td>\n",
       "      <td>-7.890</td>\n",
       "      <td>0.0338</td>\n",
       "      <td>136.302</td>\n",
       "      <td>0.931</td>\n",
       "      <td>2</td>\n",
       "      <td>4</td>\n",
       "      <td>1960s</td>\n",
       "    </tr>\n",
       "    <tr>\n",
       "      <th>2</th>\n",
       "      <td>I Want To Hold Your Hand - Remastered 2015</td>\n",
       "      <td>1 (Remastered)</td>\n",
       "      <td>The Beatles</td>\n",
       "      <td>2000-11-13</td>\n",
       "      <td>145746</td>\n",
       "      <td>74</td>\n",
       "      <td>0.3860</td>\n",
       "      <td>0.490</td>\n",
       "      <td>0.715</td>\n",
       "      <td>0.000000</td>\n",
       "      <td>0.3110</td>\n",
       "      <td>-5.549</td>\n",
       "      <td>0.0476</td>\n",
       "      <td>130.726</td>\n",
       "      <td>0.866</td>\n",
       "      <td>7</td>\n",
       "      <td>4</td>\n",
       "      <td>1960s</td>\n",
       "    </tr>\n",
       "    <tr>\n",
       "      <th>3</th>\n",
       "      <td>Respect</td>\n",
       "      <td>I Never Loved a Man the Way I Love You</td>\n",
       "      <td>Aretha Franklin</td>\n",
       "      <td>1967-03-10</td>\n",
       "      <td>147600</td>\n",
       "      <td>75</td>\n",
       "      <td>0.1640</td>\n",
       "      <td>0.805</td>\n",
       "      <td>0.558</td>\n",
       "      <td>0.000022</td>\n",
       "      <td>0.0546</td>\n",
       "      <td>-5.226</td>\n",
       "      <td>0.0410</td>\n",
       "      <td>114.950</td>\n",
       "      <td>0.965</td>\n",
       "      <td>0</td>\n",
       "      <td>4</td>\n",
       "      <td>1960s</td>\n",
       "    </tr>\n",
       "    <tr>\n",
       "      <th>4</th>\n",
       "      <td>I Heard It Through The Grapevine</td>\n",
       "      <td>In The Groove</td>\n",
       "      <td>Marvin Gaye</td>\n",
       "      <td>1968-08-26</td>\n",
       "      <td>194293</td>\n",
       "      <td>73</td>\n",
       "      <td>0.2720</td>\n",
       "      <td>0.711</td>\n",
       "      <td>0.362</td>\n",
       "      <td>0.000000</td>\n",
       "      <td>0.1270</td>\n",
       "      <td>-10.851</td>\n",
       "      <td>0.0381</td>\n",
       "      <td>117.287</td>\n",
       "      <td>0.616</td>\n",
       "      <td>3</td>\n",
       "      <td>4</td>\n",
       "      <td>1960s</td>\n",
       "    </tr>\n",
       "  </tbody>\n",
       "</table>\n",
       "</div>"
      ],
      "text/plain": [
       "                                           name  \\\n",
       "0                    Hey Jude - Remastered 2015   \n",
       "1  (I Can't Get No) Satisfaction - Mono Version   \n",
       "2    I Want To Hold Your Hand - Remastered 2015   \n",
       "3                                       Respect   \n",
       "4              I Heard It Through The Grapevine   \n",
       "\n",
       "                                    album              artist release_date  \\\n",
       "0                          1 (Remastered)         The Beatles   2000-11-13   \n",
       "1                        Out Of Our Heads  The Rolling Stones   1965-07-30   \n",
       "2                          1 (Remastered)         The Beatles   2000-11-13   \n",
       "3  I Never Loved a Man the Way I Love You     Aretha Franklin   1967-03-10   \n",
       "4                           In The Groove         Marvin Gaye   1968-08-26   \n",
       "\n",
       "   length  popularity  acousticness  danceability  energy  instrumentalness  \\\n",
       "0  425653          77        0.0112         0.386   0.607          0.000014   \n",
       "1  222813          79        0.0383         0.723   0.863          0.031700   \n",
       "2  145746          74        0.3860         0.490   0.715          0.000000   \n",
       "3  147600          75        0.1640         0.805   0.558          0.000022   \n",
       "4  194293          73        0.2720         0.711   0.362          0.000000   \n",
       "\n",
       "   liveness  loudness  speechiness    tempo  valence  key  time_signature  \\\n",
       "0    0.0880    -7.700       0.0261  147.207    0.532   10               4   \n",
       "1    0.1280    -7.890       0.0338  136.302    0.931    2               4   \n",
       "2    0.3110    -5.549       0.0476  130.726    0.866    7               4   \n",
       "3    0.0546    -5.226       0.0410  114.950    0.965    0               4   \n",
       "4    0.1270   -10.851       0.0381  117.287    0.616    3               4   \n",
       "\n",
       "  playlist  \n",
       "0    1960s  \n",
       "1    1960s  \n",
       "2    1960s  \n",
       "3    1960s  \n",
       "4    1960s  "
      ]
     },
     "execution_count": 21,
     "metadata": {},
     "output_type": "execute_result"
    }
   ],
   "source": [
    "pop_comb.head()"
   ]
  },
  {
   "cell_type": "code",
   "execution_count": 22,
   "id": "9f8d1d6c",
   "metadata": {},
   "outputs": [],
   "source": [
    "#country_2010s.value_counts('key')"
   ]
  },
  {
   "cell_type": "code",
   "execution_count": null,
   "id": "8335614a",
   "metadata": {},
   "outputs": [],
   "source": []
  }
 ],
 "metadata": {
  "kernelspec": {
   "display_name": "Python 3",
   "language": "python",
   "name": "python3"
  },
  "language_info": {
   "codemirror_mode": {
    "name": "ipython",
    "version": 3
   },
   "file_extension": ".py",
   "mimetype": "text/x-python",
   "name": "python",
   "nbconvert_exporter": "python",
   "pygments_lexer": "ipython3",
   "version": "3.8.8"
  }
 },
 "nbformat": 4,
 "nbformat_minor": 5
}
