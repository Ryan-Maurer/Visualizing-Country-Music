{
 "cells": [
  {
   "cell_type": "code",
   "execution_count": 1,
   "id": "778eb9bb",
   "metadata": {},
   "outputs": [],
   "source": [
    "import spotipy\n",
    "import spotipy.oauth2 as oauth2\n",
    "from spotipy.oauth2 import SpotifyOAuth\n",
    "from spotipy.oauth2 import SpotifyClientCredentials\n",
    "import pandas as pd\n",
    "import time\n",
    "import pprint"
   ]
  },
  {
   "cell_type": "code",
   "execution_count": 2,
   "id": "cfc4c1e6",
   "metadata": {},
   "outputs": [],
   "source": [
    "#read in text"
   ]
  },
  {
   "cell_type": "code",
   "execution_count": 3,
   "id": "150f8c33",
   "metadata": {},
   "outputs": [],
   "source": [
    "with open('./spotify_creds.txt') as f:\n",
    "    client_id = f.read().splitlines()[:1]"
   ]
  },
  {
   "cell_type": "code",
   "execution_count": 4,
   "id": "e36f887e",
   "metadata": {},
   "outputs": [],
   "source": [
    "client_id = client_id[0]"
   ]
  },
  {
   "cell_type": "code",
   "execution_count": 5,
   "id": "dc806002",
   "metadata": {},
   "outputs": [],
   "source": [
    "with open('./spotify_creds.txt') as f:\n",
    "    client_secret = f.readlines()[1:]"
   ]
  },
  {
   "cell_type": "code",
   "execution_count": 6,
   "id": "32eda7ce",
   "metadata": {},
   "outputs": [],
   "source": [
    "client_secret = client_secret[0]"
   ]
  },
  {
   "cell_type": "code",
   "execution_count": 7,
   "id": "d0fff6d1",
   "metadata": {},
   "outputs": [],
   "source": [
    "auth_manager = SpotifyClientCredentials(client_id = client_id,\n",
    "                                       client_secret = client_secret)"
   ]
  },
  {
   "cell_type": "code",
   "execution_count": 8,
   "id": "0b5d294e",
   "metadata": {},
   "outputs": [],
   "source": [
    "sp = spotipy.Spotify(auth_manager = auth_manager)"
   ]
  },
  {
   "cell_type": "code",
   "execution_count": 9,
   "id": "efbb96d8",
   "metadata": {
    "scrolled": true
   },
   "outputs": [],
   "source": [
    "def getTrackIDs(user,playlist_id):\n",
    "    track_ids = []\n",
    "    playlist = sp.user_playlist(user,playlist_id)\n",
    "    for item in playlist['tracks']['items']:\n",
    "        track = item['track']\n",
    "        track_ids.append(track['id'])\n",
    "    return track_ids\n",
    "track_ids_2000 = getTrackIDs('spotify','37i9dQZF1DXdxUH6sNtcDe')"
   ]
  },
  {
   "cell_type": "code",
   "execution_count": 10,
   "id": "880106fe",
   "metadata": {},
   "outputs": [],
   "source": [
    "def getTrackFeatures(id):\n",
    "    track_info = sp.track(id)\n",
    "    features_info = sp.audio_features(id)\n",
    "#Track info\n",
    "    name = track_info['name']\n",
    "    album = track_info['album']['name']\n",
    "    artist = track_info['album']['artists'][0]['name']\n",
    "    release_date = track_info['album']['release_date']\n",
    "    length = track_info['duration_ms']\n",
    "    popularity = track_info['popularity']\n",
    "#Track Features\n",
    "    acousticness = features_info[0]['acousticness']\n",
    "    danceability = features_info[0]['danceability']\n",
    "    energy = features_info[0]['energy']\n",
    "    instrumentalness = features_info[0]['instrumentalness']\n",
    "    liveness = features_info[0]['liveness']\n",
    "    loudness = features_info[0]['loudness']\n",
    "    speechiness = features_info[0]['speechiness']\n",
    "    tempo = features_info[0]['tempo']\n",
    "    valence = features_info[0]['valence']\n",
    "    time_signature = features_info[0]['time_signature']\n",
    "#playlist name\n",
    "    track_data = [name,album,artist,release_date,length,popularity,acousticness,danceability,energy,\n",
    "              instrumentalness,liveness,loudness,speechiness,tempo,valence,time_signature]\n",
    "    return track_data"
   ]
  },
  {
   "cell_type": "code",
   "execution_count": 11,
   "id": "cf7d1f5b",
   "metadata": {
    "scrolled": true
   },
   "outputs": [],
   "source": [
    "track_list = []\n",
    "for i in range(len(track_ids_2000)):\n",
    "    time.sleep(.3)\n",
    "    track_data = getTrackFeatures(track_ids_2000[i])\n",
    "    track_list.append(track_data)\n",
    "country_2000s = pd.DataFrame(track_list,columns = ['name','album','artist','release_date','length',\n",
    "                                                   'popularity','acousticness','danceability','energy',\n",
    "                                                   'instrumentalness','liveness','loudness',\n",
    "                                                   'speechiness','tempo','valence','time_signature'])"
   ]
  },
  {
   "cell_type": "code",
   "execution_count": 12,
   "id": "2eacf507",
   "metadata": {},
   "outputs": [
    {
     "data": {
      "text/plain": [
       "time_signature\n",
       "4    100\n",
       "dtype: int64"
      ]
     },
     "execution_count": 12,
     "metadata": {},
     "output_type": "execute_result"
    }
   ],
   "source": [
    "country_2000s.value_counts('time_signature')"
   ]
  },
  {
   "cell_type": "code",
   "execution_count": 13,
   "id": "4a667831",
   "metadata": {},
   "outputs": [],
   "source": [
    "track_ids_1960 = getTrackIDs('spotify','37i9dQZF1DX7CGYgLhqwu5')"
   ]
  },
  {
   "cell_type": "code",
   "execution_count": 14,
   "id": "91c8be58",
   "metadata": {},
   "outputs": [],
   "source": [
    "track_list = []\n",
    "for i in range(len(track_ids_1960)):\n",
    "    time.sleep(.3)\n",
    "    track_data = getTrackFeatures(track_ids_1960[i])\n",
    "    track_list.append(track_data)\n",
    "country_1960s = pd.DataFrame(track_list,columns = ['name','album','artist','release_date','length',\n",
    "                                                   'popularity','acousticness','danceability','energy',\n",
    "                                                   'instrumentalness','liveness','loudness',\n",
    "                                                   'speechiness','tempo','valence','time_signature'])"
   ]
  },
  {
   "cell_type": "code",
   "execution_count": 15,
   "id": "2848a94b",
   "metadata": {},
   "outputs": [],
   "source": [
    "track_ids_1970 = getTrackIDs('spotify','37i9dQZF1DWYP5PUsVbso9')\n",
    "\n",
    "track_list = []\n",
    "for i in range(len(track_ids_1970)):\n",
    "    time.sleep(.3)\n",
    "    track_data = getTrackFeatures(track_ids_1970[i])\n",
    "    track_list.append(track_data)\n",
    "country_1970s = pd.DataFrame(track_list,columns = ['name','album','artist','release_date','length',\n",
    "                                                   'popularity','acousticness','danceability','energy',\n",
    "                                                   'instrumentalness','liveness','loudness',\n",
    "                                                   'speechiness','tempo','valence','time_signature'])"
   ]
  },
  {
   "cell_type": "code",
   "execution_count": 16,
   "id": "b6bf79cb",
   "metadata": {},
   "outputs": [],
   "source": [
    "track_ids_1980 = getTrackIDs('spotify','37i9dQZF1DX6RCydf9ytsj')\n",
    "\n",
    "track_list = []\n",
    "for i in range(len(track_ids_1980)):\n",
    "    time.sleep(.3)\n",
    "    track_data = getTrackFeatures(track_ids_1980[i])\n",
    "    track_list.append(track_data)\n",
    "country_1980s = pd.DataFrame(track_list,columns = ['name','album','artist','release_date','length',\n",
    "                                                   'popularity','acousticness','danceability','energy',\n",
    "                                                   'instrumentalness','liveness','loudness',\n",
    "                                                   'speechiness','tempo','valence','time_signature'])"
   ]
  },
  {
   "cell_type": "code",
   "execution_count": 17,
   "id": "895c9145",
   "metadata": {},
   "outputs": [],
   "source": [
    "track_ids_1990 = getTrackIDs('spotify','37i9dQZF1DWVpjAJGB70vU')\n",
    "\n",
    "track_list = []\n",
    "for i in range(len(track_ids_1990)):\n",
    "    time.sleep(.3)\n",
    "    track_data = getTrackFeatures(track_ids_1990[i])\n",
    "    track_list.append(track_data)\n",
    "country_1990s = pd.DataFrame(track_list,columns = ['name','album','artist','release_date','length',\n",
    "                                                   'popularity','acousticness','danceability','energy',\n",
    "                                                   'instrumentalness','liveness','loudness',\n",
    "                                                   'speechiness','tempo','valence','time_signature'])"
   ]
  },
  {
   "cell_type": "code",
   "execution_count": 18,
   "id": "657d11ca",
   "metadata": {},
   "outputs": [],
   "source": [
    "track_ids_modern = getTrackIDs('spotify','37i9dQZF1DX1lVhptIYRda')\n",
    "\n",
    "track_list = []\n",
    "for i in range(len(track_ids_modern)):\n",
    "    time.sleep(.3)\n",
    "    track_data = getTrackFeatures(track_ids_modern[i])\n",
    "    track_list.append(track_data)\n",
    "country_modern = pd.DataFrame(track_list,columns = ['name','album','artist','release_date','length',\n",
    "                                                   'popularity','acousticness','danceability','energy',\n",
    "                                                   'instrumentalness','liveness','loudness',\n",
    "                                                   'speechiness','tempo','valence','time_signature'])"
   ]
  },
  {
   "cell_type": "code",
   "execution_count": 28,
   "id": "52056330",
   "metadata": {},
   "outputs": [],
   "source": [
    "track_ids_2010 = getTrackIDs('spotify','37i9dQZF1DWXdiK4WAVRUW')\n",
    "\n",
    "track_list = []\n",
    "for i in range(len(track_ids_2010)):\n",
    "    time.sleep(.3)\n",
    "    track_data = getTrackFeatures(track_ids_2010[i])\n",
    "    track_list.append(track_data)\n",
    "country_2010s = pd.DataFrame(track_list,columns = ['name','album','artist','release_date','length',\n",
    "                                                   'popularity','acousticness','danceability','energy',\n",
    "                                                   'instrumentalness','liveness','loudness',\n",
    "                                                   'speechiness','tempo','valence','time_signature'])"
   ]
  },
  {
   "cell_type": "code",
   "execution_count": 34,
   "id": "e6890743",
   "metadata": {},
   "outputs": [],
   "source": [
    "country_1960s['playlist'] = '1960s'\n",
    "country_1970s['playlist'] = '1970s'\n",
    "country_1980s['playlist'] = '1980s'\n",
    "country_1990s['playlist'] = '1990s'\n",
    "country_2000s['playlist'] = '2000s'\n",
    "country_2010s['playlist'] = '2010s'\n",
    "country_modern['playlist'] = 'modern'"
   ]
  },
  {
   "cell_type": "code",
   "execution_count": 35,
   "id": "a8df7dc7",
   "metadata": {},
   "outputs": [],
   "source": [
    "country_comb = pd.concat([country_1960s,\n",
    "                          country_1970s,\n",
    "                          country_1980s,\n",
    "                          country_1990s,\n",
    "                          country_2000s,\n",
    "                          country_2010s,\n",
    "                          country_modern])"
   ]
  },
  {
   "cell_type": "code",
   "execution_count": 40,
   "id": "63aeabb9",
   "metadata": {},
   "outputs": [],
   "source": [
    "country_comb.to_csv(\"Visualizing-Country-Music.csv\")"
   ]
  },
  {
   "cell_type": "code",
   "execution_count": null,
   "id": "81d6d716",
   "metadata": {},
   "outputs": [],
   "source": []
  }
 ],
 "metadata": {
  "kernelspec": {
   "display_name": "Python 3",
   "language": "python",
   "name": "python3"
  },
  "language_info": {
   "codemirror_mode": {
    "name": "ipython",
    "version": 3
   },
   "file_extension": ".py",
   "mimetype": "text/x-python",
   "name": "python",
   "nbconvert_exporter": "python",
   "pygments_lexer": "ipython3",
   "version": "3.8.8"
  }
 },
 "nbformat": 4,
 "nbformat_minor": 5
}
