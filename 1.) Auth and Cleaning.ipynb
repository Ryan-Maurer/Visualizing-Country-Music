{
 "cells": [
  {
   "cell_type": "code",
   "execution_count": 1,
   "id": "778eb9bb",
   "metadata": {},
   "outputs": [],
   "source": [
    "import spotipy\n",
    "import spotipy.oauth2 as oauth2\n",
    "from spotipy.oauth2 import SpotifyOAuth\n",
    "from spotipy.oauth2 import SpotifyClientCredentials\n",
    "import pandas as pd\n",
    "import time\n",
    "import pprint"
   ]
  },
  {
   "cell_type": "code",
   "execution_count": 2,
   "id": "cfc4c1e6",
   "metadata": {},
   "outputs": [],
   "source": [
    "#read in text"
   ]
  },
  {
   "cell_type": "code",
   "execution_count": 3,
   "id": "150f8c33",
   "metadata": {},
   "outputs": [],
   "source": [
    "with open('./data/spotify_creds.txt') as f:\n",
    "    client_id = f.read().splitlines()[:1]"
   ]
  },
  {
   "cell_type": "code",
   "execution_count": 4,
   "id": "e36f887e",
   "metadata": {},
   "outputs": [],
   "source": [
    "client_id = client_id[0]"
   ]
  },
  {
   "cell_type": "code",
   "execution_count": 5,
   "id": "dc806002",
   "metadata": {},
   "outputs": [],
   "source": [
    "with open('./data/spotify_creds.txt') as f:\n",
    "    client_secret = f.readlines()[1:]"
   ]
  },
  {
   "cell_type": "code",
   "execution_count": 6,
   "id": "32eda7ce",
   "metadata": {},
   "outputs": [],
   "source": [
    "client_secret = client_secret[0]"
   ]
  },
  {
   "cell_type": "code",
   "execution_count": 7,
   "id": "d0fff6d1",
   "metadata": {},
   "outputs": [],
   "source": [
    "auth_manager = SpotifyClientCredentials(client_id = client_id,\n",
    "                                       client_secret = client_secret)"
   ]
  },
  {
   "cell_type": "code",
   "execution_count": 8,
   "id": "0b5d294e",
   "metadata": {},
   "outputs": [],
   "source": [
    "sp = spotipy.Spotify(auth_manager = auth_manager)"
   ]
  },
  {
   "cell_type": "code",
   "execution_count": 9,
   "id": "efbb96d8",
   "metadata": {
    "scrolled": true
   },
   "outputs": [],
   "source": [
    "def getTrackIDs(user,playlist_id):\n",
    "    track_ids = []\n",
    "    playlist = sp.user_playlist(user,playlist_id)\n",
    "    for item in playlist['tracks']['items']:\n",
    "        track = item['track']\n",
    "        track_ids.append(track['id'])\n",
    "    return track_ids\n",
    "track_ids_2000 = getTrackIDs('spotify','37i9dQZF1DXdxUH6sNtcDe')"
   ]
  },
  {
   "cell_type": "code",
   "execution_count": 10,
   "id": "880106fe",
   "metadata": {},
   "outputs": [],
   "source": [
    "def getTrackFeatures(id):\n",
    "    track_info = sp.track(id)\n",
    "    features_info = sp.audio_features(id)\n",
    "#Track info\n",
    "    name = track_info['name']\n",
    "    album = track_info['album']['name']\n",
    "    artist = track_info['album']['artists'][0]['name']\n",
    "    release_date = track_info['album']['release_date']\n",
    "    length = track_info['duration_ms']\n",
    "    popularity = track_info['popularity']\n",
    "#Track Features\n",
    "    acousticness = features_info[0]['acousticness']\n",
    "    danceability = features_info[0]['danceability']\n",
    "    energy = features_info[0]['energy']\n",
    "    instrumentalness = features_info[0]['instrumentalness']\n",
    "    liveness = features_info[0]['liveness']\n",
    "    loudness = features_info[0]['loudness']\n",
    "    speechiness = features_info[0]['speechiness']\n",
    "    tempo = features_info[0]['tempo']\n",
    "    valence = features_info[0]['valence']\n",
    "    key = features_info[0]['key']\n",
    "    time_signature = features_info[0]['time_signature']\n",
    "#playlist name\n",
    "    track_data = [name,album,artist,release_date,length,popularity,acousticness,danceability,energy,\n",
    "              instrumentalness,liveness,loudness,speechiness,tempo,valence,key,time_signature]\n",
    "    return track_data"
   ]
  },
  {
   "cell_type": "code",
   "execution_count": 11,
   "id": "cf7d1f5b",
   "metadata": {
    "scrolled": true
   },
   "outputs": [],
   "source": [
    "track_list = []\n",
    "for i in range(len(track_ids_2000)):\n",
    "    time.sleep(.3)\n",
    "    track_data = getTrackFeatures(track_ids_2000[i])\n",
    "    track_list.append(track_data)\n",
    "country_2000s = pd.DataFrame(track_list,columns = ['name','album','artist','release_date','length',\n",
    "                                                   'popularity','acousticness','danceability','energy',\n",
    "                                                   'instrumentalness','liveness','loudness',\n",
    "                                                   'speechiness','tempo','valence','key','time_signature'])"
   ]
  },
  {
   "cell_type": "code",
   "execution_count": 12,
   "id": "4a667831",
   "metadata": {},
   "outputs": [],
   "source": [
    "track_ids_1960 = getTrackIDs('spotify','37i9dQZF1DX7CGYgLhqwu5')"
   ]
  },
  {
   "cell_type": "code",
   "execution_count": 13,
   "id": "91c8be58",
   "metadata": {},
   "outputs": [],
   "source": [
    "track_list = []\n",
    "for i in range(len(track_ids_1960)):\n",
    "    time.sleep(.3)\n",
    "    track_data = getTrackFeatures(track_ids_1960[i])\n",
    "    track_list.append(track_data)\n",
    "country_1960s = pd.DataFrame(track_list,columns = ['name','album','artist','release_date','length',\n",
    "                                                   'popularity','acousticness','danceability','energy',\n",
    "                                                   'instrumentalness','liveness','loudness',\n",
    "                                                   'speechiness','tempo','valence','key','time_signature'])"
   ]
  },
  {
   "cell_type": "code",
   "execution_count": 14,
   "id": "2848a94b",
   "metadata": {},
   "outputs": [],
   "source": [
    "track_ids_1970 = getTrackIDs('spotify','37i9dQZF1DWYP5PUsVbso9')\n",
    "\n",
    "track_list = []\n",
    "for i in range(len(track_ids_1970)):\n",
    "    time.sleep(.3)\n",
    "    track_data = getTrackFeatures(track_ids_1970[i])\n",
    "    track_list.append(track_data)\n",
    "country_1970s = pd.DataFrame(track_list,columns = ['name','album','artist','release_date','length',\n",
    "                                                   'popularity','acousticness','danceability','energy',\n",
    "                                                   'instrumentalness','liveness','loudness',\n",
    "                                                   'speechiness','tempo','valence','key','time_signature'])"
   ]
  },
  {
   "cell_type": "code",
   "execution_count": 15,
   "id": "b6bf79cb",
   "metadata": {},
   "outputs": [],
   "source": [
    "track_ids_1980 = getTrackIDs('spotify','37i9dQZF1DX6RCydf9ytsj')\n",
    "\n",
    "track_list = []\n",
    "for i in range(len(track_ids_1980)):\n",
    "    time.sleep(.3)\n",
    "    track_data = getTrackFeatures(track_ids_1980[i])\n",
    "    track_list.append(track_data)\n",
    "country_1980s = pd.DataFrame(track_list,columns = ['name','album','artist','release_date','length',\n",
    "                                                   'popularity','acousticness','danceability','energy',\n",
    "                                                   'instrumentalness','liveness','loudness',\n",
    "                                                   'speechiness','tempo','valence','key','time_signature'])"
   ]
  },
  {
   "cell_type": "code",
   "execution_count": 16,
   "id": "895c9145",
   "metadata": {},
   "outputs": [],
   "source": [
    "track_ids_1990 = getTrackIDs('spotify','37i9dQZF1DWVpjAJGB70vU')\n",
    "\n",
    "track_list = []\n",
    "for i in range(len(track_ids_1990)):\n",
    "    time.sleep(.3)\n",
    "    track_data = getTrackFeatures(track_ids_1990[i])\n",
    "    track_list.append(track_data)\n",
    "country_1990s = pd.DataFrame(track_list,columns = ['name','album','artist','release_date','length',\n",
    "                                                   'popularity','acousticness','danceability','energy',\n",
    "                                                   'instrumentalness','liveness','loudness',\n",
    "                                                   'speechiness','tempo','valence','key','time_signature'])"
   ]
  },
  {
   "cell_type": "code",
   "execution_count": 17,
   "id": "657d11ca",
   "metadata": {},
   "outputs": [],
   "source": [
    "track_ids_2020 = getTrackIDs('spotify','2nVBJ0ZDHJZkcNhFAlZxIj')\n",
    "\n",
    "track_list = []\n",
    "for i in range(len(track_ids_2020)):\n",
    "    time.sleep(.3)\n",
    "    track_data = getTrackFeatures(track_ids_2020[i])\n",
    "    track_list.append(track_data)\n",
    "country_2020 = pd.DataFrame(track_list,columns = ['name','album','artist','release_date','length',\n",
    "                                                   'popularity','acousticness','danceability','energy',\n",
    "                                                   'instrumentalness','liveness','loudness',\n",
    "                                                   'speechiness','tempo','valence','key','time_signature'])"
   ]
  },
  {
   "cell_type": "code",
   "execution_count": 18,
   "id": "52056330",
   "metadata": {},
   "outputs": [],
   "source": [
    "track_ids_2010 = getTrackIDs('spotify','37i9dQZF1DWXdiK4WAVRUW')\n",
    "\n",
    "track_list = []\n",
    "for i in range(len(track_ids_2010)):\n",
    "    time.sleep(.3)\n",
    "    track_data = getTrackFeatures(track_ids_2010[i])\n",
    "    track_list.append(track_data)\n",
    "country_2010s = pd.DataFrame(track_list,columns = ['name','album','artist','release_date','length',\n",
    "                                                   'popularity','acousticness','danceability','energy',\n",
    "                                                   'instrumentalness','liveness','loudness',\n",
    "                                                   'speechiness','tempo','valence','key','time_signature'])"
   ]
  },
  {
   "cell_type": "code",
   "execution_count": 19,
   "id": "e6890743",
   "metadata": {},
   "outputs": [],
   "source": [
    "country_1960s['playlist'] = '1960s'\n",
    "country_1970s['playlist'] = '1970s'\n",
    "country_1980s['playlist'] = '1980s'\n",
    "country_1990s['playlist'] = '1990s'\n",
    "country_2000s['playlist'] = '2000s'\n",
    "country_2010s['playlist'] = '2010s'\n",
    "country_2020['playlist'] = '2020'"
   ]
  },
  {
   "cell_type": "code",
   "execution_count": 20,
   "id": "a8df7dc7",
   "metadata": {},
   "outputs": [],
   "source": [
    "country_comb = pd.concat([country_1960s,\n",
    "                          country_1970s,\n",
    "                          country_1980s,\n",
    "                          country_1990s,\n",
    "                          country_2000s,\n",
    "                          country_2010s,\n",
    "                          country_2020])"
   ]
  },
  {
   "cell_type": "code",
   "execution_count": 21,
   "id": "63aeabb9",
   "metadata": {},
   "outputs": [],
   "source": [
    "country_comb.to_csv(\"./data/country_by_decade.csv\")"
   ]
  },
  {
   "cell_type": "code",
   "execution_count": 23,
   "id": "8335614a",
   "metadata": {},
   "outputs": [
    {
     "data": {
      "text/html": [
       "<div>\n",
       "<style scoped>\n",
       "    .dataframe tbody tr th:only-of-type {\n",
       "        vertical-align: middle;\n",
       "    }\n",
       "\n",
       "    .dataframe tbody tr th {\n",
       "        vertical-align: top;\n",
       "    }\n",
       "\n",
       "    .dataframe thead th {\n",
       "        text-align: right;\n",
       "    }\n",
       "</style>\n",
       "<table border=\"1\" class=\"dataframe\">\n",
       "  <thead>\n",
       "    <tr style=\"text-align: right;\">\n",
       "      <th></th>\n",
       "      <th>name</th>\n",
       "      <th>album</th>\n",
       "      <th>artist</th>\n",
       "      <th>release_date</th>\n",
       "      <th>length</th>\n",
       "      <th>popularity</th>\n",
       "      <th>acousticness</th>\n",
       "      <th>danceability</th>\n",
       "      <th>energy</th>\n",
       "      <th>instrumentalness</th>\n",
       "      <th>liveness</th>\n",
       "      <th>loudness</th>\n",
       "      <th>speechiness</th>\n",
       "      <th>tempo</th>\n",
       "      <th>valence</th>\n",
       "      <th>key</th>\n",
       "      <th>time_signature</th>\n",
       "    </tr>\n",
       "  </thead>\n",
       "  <tbody>\n",
       "    <tr>\n",
       "      <th>0</th>\n",
       "      <td>Simple Man</td>\n",
       "      <td>Simple Man</td>\n",
       "      <td>The Charlie Daniels Band</td>\n",
       "      <td>1989-10-17</td>\n",
       "      <td>202506</td>\n",
       "      <td>62</td>\n",
       "      <td>0.654</td>\n",
       "      <td>0.592</td>\n",
       "      <td>0.383</td>\n",
       "      <td>0</td>\n",
       "      <td>0.0982</td>\n",
       "      <td>-13.076</td>\n",
       "      <td>0.0494</td>\n",
       "      <td>78.954</td>\n",
       "      <td>0.485</td>\n",
       "      <td>9</td>\n",
       "      <td>4</td>\n",
       "    </tr>\n",
       "  </tbody>\n",
       "</table>\n",
       "</div>"
      ],
      "text/plain": [
       "         name       album                    artist release_date  length  \\\n",
       "0  Simple Man  Simple Man  The Charlie Daniels Band   1989-10-17  202506   \n",
       "\n",
       "   popularity  acousticness  danceability  energy  instrumentalness  liveness  \\\n",
       "0          62         0.654         0.592   0.383                 0    0.0982   \n",
       "\n",
       "   loudness  speechiness   tempo  valence  key  time_signature  \n",
       "0   -13.076       0.0494  78.954    0.485    9               4  "
      ]
     },
     "execution_count": 23,
     "metadata": {},
     "output_type": "execute_result"
    }
   ],
   "source": [
    "track_ids_optimized = getTrackIDs('spotify','4wsCK1K15Lr8bpayrwP7fn')\n",
    "\n",
    "track_list = []\n",
    "for i in range(len(track_ids_optimized)):\n",
    "    time.sleep(.3)\n",
    "    track_data = getTrackFeatures(track_ids_optimized[i])\n",
    "    track_list.append(track_data)\n",
    "optimized_tracks = pd.DataFrame(track_list,columns = ['name','album','artist','release_date','length',\n",
    "                                                   'popularity','acousticness','danceability','energy',\n",
    "                                                   'instrumentalness','liveness','loudness',\n",
    "                                                   'speechiness','tempo','valence','key','time_signature'])\n",
    "optimized_tracks.head()"
   ]
  },
  {
   "cell_type": "code",
   "execution_count": 25,
   "id": "27ffe0f7",
   "metadata": {},
   "outputs": [],
   "source": [
    "country_comb['key'] = country_comb['key'].replace([0,1,2,3,4,5,6,7,8,9,10,11],\n",
    "                                                  ['C','C#/Db','D','D#/Eb','E',\n",
    "                                                   'F','F#/Gb','G','G#/Ab','A','A#/Bb','B'])"
   ]
  },
  {
   "cell_type": "code",
   "execution_count": 27,
   "id": "92eb05bf",
   "metadata": {},
   "outputs": [],
   "source": [
    "country_comb['genre'] = 'country'"
   ]
  },
  {
   "cell_type": "code",
   "execution_count": 28,
   "id": "7e14ffcf",
   "metadata": {},
   "outputs": [
    {
     "data": {
      "text/html": [
       "<div>\n",
       "<style scoped>\n",
       "    .dataframe tbody tr th:only-of-type {\n",
       "        vertical-align: middle;\n",
       "    }\n",
       "\n",
       "    .dataframe tbody tr th {\n",
       "        vertical-align: top;\n",
       "    }\n",
       "\n",
       "    .dataframe thead th {\n",
       "        text-align: right;\n",
       "    }\n",
       "</style>\n",
       "<table border=\"1\" class=\"dataframe\">\n",
       "  <thead>\n",
       "    <tr style=\"text-align: right;\">\n",
       "      <th></th>\n",
       "      <th>name</th>\n",
       "      <th>album</th>\n",
       "      <th>artist</th>\n",
       "      <th>release_date</th>\n",
       "      <th>length</th>\n",
       "      <th>popularity</th>\n",
       "      <th>acousticness</th>\n",
       "      <th>danceability</th>\n",
       "      <th>energy</th>\n",
       "      <th>instrumentalness</th>\n",
       "      <th>liveness</th>\n",
       "      <th>loudness</th>\n",
       "      <th>speechiness</th>\n",
       "      <th>tempo</th>\n",
       "      <th>valence</th>\n",
       "      <th>key</th>\n",
       "      <th>time_signature</th>\n",
       "      <th>playlist</th>\n",
       "      <th>genre</th>\n",
       "    </tr>\n",
       "  </thead>\n",
       "  <tbody>\n",
       "    <tr>\n",
       "      <th>0</th>\n",
       "      <td>Sea of Heartbreak</td>\n",
       "      <td>The Essential Don Gibson</td>\n",
       "      <td>Don Gibson</td>\n",
       "      <td>2014-03-28</td>\n",
       "      <td>151773</td>\n",
       "      <td>47</td>\n",
       "      <td>0.370</td>\n",
       "      <td>0.594</td>\n",
       "      <td>0.480</td>\n",
       "      <td>0.000090</td>\n",
       "      <td>0.3300</td>\n",
       "      <td>-12.030</td>\n",
       "      <td>0.0351</td>\n",
       "      <td>91.180</td>\n",
       "      <td>0.799</td>\n",
       "      <td>G</td>\n",
       "      <td>4</td>\n",
       "      <td>1960s</td>\n",
       "      <td>country</td>\n",
       "    </tr>\n",
       "    <tr>\n",
       "      <th>1</th>\n",
       "      <td>King Of The Road</td>\n",
       "      <td>All Time Greatest Hits</td>\n",
       "      <td>Roger Miller</td>\n",
       "      <td>2003-01-01</td>\n",
       "      <td>148280</td>\n",
       "      <td>0</td>\n",
       "      <td>0.652</td>\n",
       "      <td>0.674</td>\n",
       "      <td>0.365</td>\n",
       "      <td>0.000000</td>\n",
       "      <td>0.1400</td>\n",
       "      <td>-10.230</td>\n",
       "      <td>0.0758</td>\n",
       "      <td>118.009</td>\n",
       "      <td>0.532</td>\n",
       "      <td>B</td>\n",
       "      <td>4</td>\n",
       "      <td>1960s</td>\n",
       "      <td>country</td>\n",
       "    </tr>\n",
       "    <tr>\n",
       "      <th>2</th>\n",
       "      <td>Jackson (with June Carter Cash)</td>\n",
       "      <td>Keep On the Sunny Side - June Carter Cash: Her...</td>\n",
       "      <td>June Carter Cash</td>\n",
       "      <td>1952</td>\n",
       "      <td>166266</td>\n",
       "      <td>48</td>\n",
       "      <td>0.552</td>\n",
       "      <td>0.707</td>\n",
       "      <td>0.483</td>\n",
       "      <td>0.000143</td>\n",
       "      <td>0.3880</td>\n",
       "      <td>-9.929</td>\n",
       "      <td>0.0371</td>\n",
       "      <td>128.320</td>\n",
       "      <td>0.790</td>\n",
       "      <td>C</td>\n",
       "      <td>4</td>\n",
       "      <td>1960s</td>\n",
       "      <td>country</td>\n",
       "    </tr>\n",
       "    <tr>\n",
       "      <th>3</th>\n",
       "      <td>Mama Tried</td>\n",
       "      <td>Mama Tried/ Pride In What I Am</td>\n",
       "      <td>Merle Haggard</td>\n",
       "      <td>2006-01-01</td>\n",
       "      <td>134453</td>\n",
       "      <td>62</td>\n",
       "      <td>0.719</td>\n",
       "      <td>0.738</td>\n",
       "      <td>0.538</td>\n",
       "      <td>0.000013</td>\n",
       "      <td>0.0653</td>\n",
       "      <td>-10.118</td>\n",
       "      <td>0.0374</td>\n",
       "      <td>97.487</td>\n",
       "      <td>0.810</td>\n",
       "      <td>D</td>\n",
       "      <td>4</td>\n",
       "      <td>1960s</td>\n",
       "      <td>country</td>\n",
       "    </tr>\n",
       "    <tr>\n",
       "      <th>4</th>\n",
       "      <td>Harper Valley P.T.A.</td>\n",
       "      <td>Harper Valley P.T.A. (The Plantation Recording...</td>\n",
       "      <td>Jeannie C. Riley</td>\n",
       "      <td>2013-09-30</td>\n",
       "      <td>194400</td>\n",
       "      <td>54</td>\n",
       "      <td>0.629</td>\n",
       "      <td>0.795</td>\n",
       "      <td>0.448</td>\n",
       "      <td>0.000000</td>\n",
       "      <td>0.0659</td>\n",
       "      <td>-13.427</td>\n",
       "      <td>0.0444</td>\n",
       "      <td>122.318</td>\n",
       "      <td>0.960</td>\n",
       "      <td>E</td>\n",
       "      <td>4</td>\n",
       "      <td>1960s</td>\n",
       "      <td>country</td>\n",
       "    </tr>\n",
       "  </tbody>\n",
       "</table>\n",
       "</div>"
      ],
      "text/plain": [
       "                              name  \\\n",
       "0                Sea of Heartbreak   \n",
       "1                 King Of The Road   \n",
       "2  Jackson (with June Carter Cash)   \n",
       "3                       Mama Tried   \n",
       "4             Harper Valley P.T.A.   \n",
       "\n",
       "                                               album            artist  \\\n",
       "0                           The Essential Don Gibson        Don Gibson   \n",
       "1                             All Time Greatest Hits      Roger Miller   \n",
       "2  Keep On the Sunny Side - June Carter Cash: Her...  June Carter Cash   \n",
       "3                     Mama Tried/ Pride In What I Am     Merle Haggard   \n",
       "4  Harper Valley P.T.A. (The Plantation Recording...  Jeannie C. Riley   \n",
       "\n",
       "  release_date  length  popularity  acousticness  danceability  energy  \\\n",
       "0   2014-03-28  151773          47         0.370         0.594   0.480   \n",
       "1   2003-01-01  148280           0         0.652         0.674   0.365   \n",
       "2         1952  166266          48         0.552         0.707   0.483   \n",
       "3   2006-01-01  134453          62         0.719         0.738   0.538   \n",
       "4   2013-09-30  194400          54         0.629         0.795   0.448   \n",
       "\n",
       "   instrumentalness  liveness  loudness  speechiness    tempo  valence key  \\\n",
       "0          0.000090    0.3300   -12.030       0.0351   91.180    0.799   G   \n",
       "1          0.000000    0.1400   -10.230       0.0758  118.009    0.532   B   \n",
       "2          0.000143    0.3880    -9.929       0.0371  128.320    0.790   C   \n",
       "3          0.000013    0.0653   -10.118       0.0374   97.487    0.810   D   \n",
       "4          0.000000    0.0659   -13.427       0.0444  122.318    0.960   E   \n",
       "\n",
       "   time_signature playlist    genre  \n",
       "0               4    1960s  country  \n",
       "1               4    1960s  country  \n",
       "2               4    1960s  country  \n",
       "3               4    1960s  country  \n",
       "4               4    1960s  country  "
      ]
     },
     "execution_count": 28,
     "metadata": {},
     "output_type": "execute_result"
    }
   ],
   "source": [
    "country_comb.head()"
   ]
  },
  {
   "cell_type": "code",
   "execution_count": 29,
   "id": "ecc4c3a1",
   "metadata": {},
   "outputs": [],
   "source": [
    "country_comb.to_csv(\"./data/country_by_decade.csv\")"
   ]
  },
  {
   "cell_type": "code",
   "execution_count": null,
   "id": "5b958a88",
   "metadata": {},
   "outputs": [],
   "source": []
  }
 ],
 "metadata": {
  "kernelspec": {
   "display_name": "Python 3",
   "language": "python",
   "name": "python3"
  },
  "language_info": {
   "codemirror_mode": {
    "name": "ipython",
    "version": 3
   },
   "file_extension": ".py",
   "mimetype": "text/x-python",
   "name": "python",
   "nbconvert_exporter": "python",
   "pygments_lexer": "ipython3",
   "version": "3.8.8"
  }
 },
 "nbformat": 4,
 "nbformat_minor": 5
}
