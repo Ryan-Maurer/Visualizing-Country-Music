{
 "cells": [
  {
   "cell_type": "code",
   "execution_count": 1,
   "id": "778eb9bb",
   "metadata": {},
   "outputs": [],
   "source": [
    "import spotipy\n",
    "import spotipy.oauth2 as oauth2\n",
    "from spotipy.oauth2 import SpotifyOAuth\n",
    "from spotipy.oauth2 import SpotifyClientCredentials\n",
    "import pandas as pd\n",
    "import time\n",
    "import pprint"
   ]
  },
  {
   "cell_type": "code",
   "execution_count": 2,
   "id": "cfc4c1e6",
   "metadata": {},
   "outputs": [],
   "source": [
    "#read in text"
   ]
  },
  {
   "cell_type": "code",
   "execution_count": 3,
   "id": "150f8c33",
   "metadata": {},
   "outputs": [],
   "source": [
    "with open('./data/spotify_creds.txt') as f:\n",
    "    client_id = f.read().splitlines()[:1]"
   ]
  },
  {
   "cell_type": "code",
   "execution_count": 4,
   "id": "e36f887e",
   "metadata": {},
   "outputs": [],
   "source": [
    "client_id = client_id[0]"
   ]
  },
  {
   "cell_type": "code",
   "execution_count": 5,
   "id": "dc806002",
   "metadata": {},
   "outputs": [],
   "source": [
    "with open('./data/spotify_creds.txt') as f:\n",
    "    client_secret = f.readlines()[1:]"
   ]
  },
  {
   "cell_type": "code",
   "execution_count": 6,
   "id": "32eda7ce",
   "metadata": {},
   "outputs": [],
   "source": [
    "client_secret = client_secret[0]"
   ]
  },
  {
   "cell_type": "code",
   "execution_count": 7,
   "id": "d0fff6d1",
   "metadata": {},
   "outputs": [],
   "source": [
    "auth_manager = SpotifyClientCredentials(client_id = client_id,\n",
    "                                       client_secret = client_secret)"
   ]
  },
  {
   "cell_type": "code",
   "execution_count": 8,
   "id": "0b5d294e",
   "metadata": {},
   "outputs": [],
   "source": [
    "sp = spotipy.Spotify(auth_manager = auth_manager)"
   ]
  },
  {
   "cell_type": "code",
   "execution_count": 9,
   "id": "efbb96d8",
   "metadata": {
    "scrolled": true
   },
   "outputs": [],
   "source": [
    "def getTrackIDs(user,playlist_id):\n",
    "    track_ids = []\n",
    "    playlist = sp.user_playlist(user,playlist_id)\n",
    "    for item in playlist['tracks']['items']:\n",
    "        track = item['track']\n",
    "        track_ids.append(track['id'])\n",
    "    return track_ids"
   ]
  },
  {
   "cell_type": "code",
   "execution_count": 10,
   "id": "880106fe",
   "metadata": {},
   "outputs": [],
   "source": [
    "def getTrackFeatures(id):\n",
    "    track_info = sp.track(id)\n",
    "    features_info = sp.audio_features(id)\n",
    "#Track info\n",
    "    name = track_info['name']\n",
    "    album = track_info['album']['name']\n",
    "    artist = track_info['album']['artists'][0]['name']\n",
    "    release_date = track_info['album']['release_date']\n",
    "    length = track_info['duration_ms']\n",
    "    popularity = track_info['popularity']\n",
    "#Track Features\n",
    "    acousticness = features_info[0]['acousticness']\n",
    "    danceability = features_info[0]['danceability']\n",
    "    energy = features_info[0]['energy']\n",
    "    instrumentalness = features_info[0]['instrumentalness']\n",
    "    liveness = features_info[0]['liveness']\n",
    "    loudness = features_info[0]['loudness']\n",
    "    speechiness = features_info[0]['speechiness']\n",
    "    tempo = features_info[0]['tempo']\n",
    "    valence = features_info[0]['valence']\n",
    "    key = features_info[0]['key']\n",
    "    time_signature = features_info[0]['time_signature']\n",
    "#playlist name\n",
    "    track_data = [name,album,artist,release_date,length,popularity,acousticness,danceability,energy,\n",
    "              instrumentalness,liveness,loudness,speechiness,tempo,valence,key,time_signature]\n",
    "    return track_data"
   ]
  },
  {
   "cell_type": "code",
   "execution_count": 11,
   "id": "31bd9754",
   "metadata": {},
   "outputs": [],
   "source": [
    "track_ids_pop_1960 = getTrackIDs('spotify','3Io0dNBDnmDR4sLTbbbYhl')\n",
    "\n",
    "track_list = []\n",
    "for i in range(len(track_ids_pop_1960)):\n",
    "    time.sleep(.3)\n",
    "    track_data = getTrackFeatures(track_ids_pop_1960[i])\n",
    "    track_list.append(track_data)\n",
    "pop_1960s = pd.DataFrame(track_list,columns = ['name','album','artist','release_date','length',\n",
    "                                                   'popularity','acousticness','danceability','energy',\n",
    "                                                   'instrumentalness','liveness','loudness',\n",
    "                                                   'speechiness','tempo','valence','key','time_signature'])"
   ]
  },
  {
   "cell_type": "code",
   "execution_count": 12,
   "id": "2848a94b",
   "metadata": {},
   "outputs": [],
   "source": [
    "track_ids_pop_1970 = getTrackIDs('spotify','367bIh6ggxieEj9gAcAve0')\n",
    "\n",
    "track_list = []\n",
    "for i in range(len(track_ids_pop_1970)):\n",
    "    time.sleep(.3)\n",
    "    track_data = getTrackFeatures(track_ids_pop_1970[i])\n",
    "    track_list.append(track_data)\n",
    "pop_1970s = pd.DataFrame(track_list,columns = ['name','album','artist','release_date','length',\n",
    "                                                   'popularity','acousticness','danceability','energy',\n",
    "                                                   'instrumentalness','liveness','loudness',\n",
    "                                                   'speechiness','tempo','valence','key','time_signature'])"
   ]
  },
  {
   "cell_type": "code",
   "execution_count": 13,
   "id": "b6bf79cb",
   "metadata": {},
   "outputs": [],
   "source": [
    "track_ids_pop_1980 = getTrackIDs('spotify','367bIh6ggxieEj9gAcAve0')\n",
    "\n",
    "track_list = []\n",
    "for i in range(len(track_ids_pop_1980)):\n",
    "    time.sleep(.3)\n",
    "    track_data = getTrackFeatures(track_ids_pop_1980[i])\n",
    "    track_list.append(track_data)\n",
    "pop_1980s = pd.DataFrame(track_list,columns = ['name','album','artist','release_date','length',\n",
    "                                                   'popularity','acousticness','danceability','energy',\n",
    "                                                   'instrumentalness','liveness','loudness',\n",
    "                                                   'speechiness','tempo','valence','key','time_signature'])"
   ]
  },
  {
   "cell_type": "code",
   "execution_count": 14,
   "id": "895c9145",
   "metadata": {},
   "outputs": [],
   "source": [
    "track_ids_pop_1990 = getTrackIDs('spotify','7kGFrIX0pDL7TdUL94XnEe')\n",
    "\n",
    "track_list = []\n",
    "for i in range(len(track_ids_pop_1990)):\n",
    "    time.sleep(.3)\n",
    "    track_data = getTrackFeatures(track_ids_pop_1990[i])\n",
    "    track_list.append(track_data)\n",
    "pop_1990s = pd.DataFrame(track_list,columns = ['name','album','artist','release_date','length',\n",
    "                                                   'popularity','acousticness','danceability','energy',\n",
    "                                                   'instrumentalness','liveness','loudness',\n",
    "                                                   'speechiness','tempo','valence','key','time_signature'])"
   ]
  },
  {
   "cell_type": "code",
   "execution_count": 15,
   "id": "657d11ca",
   "metadata": {},
   "outputs": [],
   "source": [
    "track_ids_pop_2000 = getTrackIDs('spotify','3xkgNIvPvw69nTpAkZWToV')\n",
    "\n",
    "track_list = []\n",
    "for i in range(len(track_ids_pop_2000)):\n",
    "    time.sleep(.3)\n",
    "    track_data = getTrackFeatures(track_ids_pop_2000[i])\n",
    "    track_list.append(track_data)\n",
    "pop_2000s = pd.DataFrame(track_list,columns = ['name','album','artist','release_date','length',\n",
    "                                                   'popularity','acousticness','danceability','energy',\n",
    "                                                   'instrumentalness','liveness','loudness',\n",
    "                                                   'speechiness','tempo','valence','key','time_signature'])"
   ]
  },
  {
   "cell_type": "code",
   "execution_count": 16,
   "id": "52056330",
   "metadata": {},
   "outputs": [],
   "source": [
    "track_ids_pop_2010 = getTrackIDs('spotify','2cV2EltqchhsfwDbFjOOkJ')\n",
    "\n",
    "track_list = []\n",
    "for i in range(len(track_ids_pop_2010)):\n",
    "    time.sleep(.3)\n",
    "    track_data = getTrackFeatures(track_ids_pop_2010[i])\n",
    "    track_list.append(track_data)\n",
    "pop_2010s = pd.DataFrame(track_list,columns = ['name','album','artist','release_date','length',\n",
    "                                                   'popularity','acousticness','danceability','energy',\n",
    "                                                   'instrumentalness','liveness','loudness',\n",
    "                                                   'speechiness','tempo','valence','key','time_signature'])"
   ]
  },
  {
   "cell_type": "code",
   "execution_count": 17,
   "id": "78ce2cbb",
   "metadata": {},
   "outputs": [],
   "source": [
    "track_ids_pop_2020 = getTrackIDs('spotify','1RFasn12lPqAfUoUuckrlv')\n",
    "\n",
    "track_list = []\n",
    "for i in range(len(track_ids_pop_2020)):\n",
    "    time.sleep(.3)\n",
    "    track_data = getTrackFeatures(track_ids_pop_2020[i])\n",
    "    track_list.append(track_data)\n",
    "pop_2020 = pd.DataFrame(track_list,columns = ['name','album','artist','release_date','length',\n",
    "                                                   'popularity','acousticness','danceability','energy',\n",
    "                                                   'instrumentalness','liveness','loudness',\n",
    "                                                   'speechiness','tempo','valence','key','time_signature'])"
   ]
  },
  {
   "cell_type": "code",
   "execution_count": 32,
   "id": "e6890743",
   "metadata": {},
   "outputs": [],
   "source": [
    "pop_1960s['playlist'] = '1960s'\n",
    "pop_1970s['playlist'] = '1970s'\n",
    "pop_1980s['playlist'] = '1980s'\n",
    "pop_1990s['playlist'] = '1990s'\n",
    "pop_2000s['playlist'] = '2000s'\n",
    "pop_2010s['playlist'] = '2010s'\n",
    "pop_2020['playlist'] = '2020'"
   ]
  },
  {
   "cell_type": "code",
   "execution_count": 33,
   "id": "a8df7dc7",
   "metadata": {},
   "outputs": [],
   "source": [
    "pop_comb = pd.concat([pop_1960s,\n",
    "                      pop_1970s,\n",
    "                      pop_1980s,\n",
    "                      pop_1990s,\n",
    "                      pop_2000s,\n",
    "                      pop_2010s,\n",
    "                      pop_2020])"
   ]
  },
  {
   "cell_type": "code",
   "execution_count": 21,
   "id": "9f8d1d6c",
   "metadata": {},
   "outputs": [],
   "source": [
    "#country_2010s.value_counts('key')"
   ]
  },
  {
   "cell_type": "code",
   "execution_count": 34,
   "id": "df1f638c",
   "metadata": {},
   "outputs": [],
   "source": [
    "pop_comb['key'] = pop_comb['key'].replace([0,1,2,3,4,5,6,7,8,9,10,11],\n",
    "                                                  ['C','C#/Db','D','D#/Eb','E',\n",
    "                                                   'F','F#/Gb','G','G#/Ab','A','A#/Bb','B'])"
   ]
  },
  {
   "cell_type": "code",
   "execution_count": 35,
   "id": "74b341a0",
   "metadata": {},
   "outputs": [],
   "source": [
    "pop_comb['genre'] = 'pop'"
   ]
  },
  {
   "cell_type": "code",
   "execution_count": 36,
   "id": "83621d07",
   "metadata": {},
   "outputs": [
    {
     "data": {
      "text/html": [
       "<div>\n",
       "<style scoped>\n",
       "    .dataframe tbody tr th:only-of-type {\n",
       "        vertical-align: middle;\n",
       "    }\n",
       "\n",
       "    .dataframe tbody tr th {\n",
       "        vertical-align: top;\n",
       "    }\n",
       "\n",
       "    .dataframe thead th {\n",
       "        text-align: right;\n",
       "    }\n",
       "</style>\n",
       "<table border=\"1\" class=\"dataframe\">\n",
       "  <thead>\n",
       "    <tr style=\"text-align: right;\">\n",
       "      <th></th>\n",
       "      <th>name</th>\n",
       "      <th>album</th>\n",
       "      <th>artist</th>\n",
       "      <th>release_date</th>\n",
       "      <th>length</th>\n",
       "      <th>popularity</th>\n",
       "      <th>acousticness</th>\n",
       "      <th>danceability</th>\n",
       "      <th>energy</th>\n",
       "      <th>instrumentalness</th>\n",
       "      <th>liveness</th>\n",
       "      <th>loudness</th>\n",
       "      <th>speechiness</th>\n",
       "      <th>tempo</th>\n",
       "      <th>valence</th>\n",
       "      <th>key</th>\n",
       "      <th>time_signature</th>\n",
       "      <th>playlist</th>\n",
       "      <th>genre</th>\n",
       "    </tr>\n",
       "  </thead>\n",
       "  <tbody>\n",
       "    <tr>\n",
       "      <th>94</th>\n",
       "      <td>More Than My Hometown</td>\n",
       "      <td>Dangerous: The Double Album</td>\n",
       "      <td>Morgan Wallen</td>\n",
       "      <td>2021-01-08</td>\n",
       "      <td>216573</td>\n",
       "      <td>79</td>\n",
       "      <td>0.61500</td>\n",
       "      <td>0.620</td>\n",
       "      <td>0.869</td>\n",
       "      <td>0.000000</td>\n",
       "      <td>0.1310</td>\n",
       "      <td>-5.479</td>\n",
       "      <td>0.0462</td>\n",
       "      <td>126.019</td>\n",
       "      <td>0.597</td>\n",
       "      <td>F#/Gb</td>\n",
       "      <td>4</td>\n",
       "      <td>2020</td>\n",
       "      <td>pop</td>\n",
       "    </tr>\n",
       "    <tr>\n",
       "      <th>95</th>\n",
       "      <td>Lovin' On You</td>\n",
       "      <td>What You See Is What You Get</td>\n",
       "      <td>Luke Combs</td>\n",
       "      <td>2019-11-08</td>\n",
       "      <td>194866</td>\n",
       "      <td>72</td>\n",
       "      <td>0.00165</td>\n",
       "      <td>0.572</td>\n",
       "      <td>0.949</td>\n",
       "      <td>0.000195</td>\n",
       "      <td>0.1630</td>\n",
       "      <td>-4.865</td>\n",
       "      <td>0.0600</td>\n",
       "      <td>118.974</td>\n",
       "      <td>0.530</td>\n",
       "      <td>E</td>\n",
       "      <td>4</td>\n",
       "      <td>2020</td>\n",
       "      <td>pop</td>\n",
       "    </tr>\n",
       "    <tr>\n",
       "      <th>96</th>\n",
       "      <td>Said Sum</td>\n",
       "      <td>Code Red</td>\n",
       "      <td>Moneybagg Yo</td>\n",
       "      <td>2020-09-18</td>\n",
       "      <td>155168</td>\n",
       "      <td>71</td>\n",
       "      <td>0.01850</td>\n",
       "      <td>0.929</td>\n",
       "      <td>0.667</td>\n",
       "      <td>0.000000</td>\n",
       "      <td>0.1000</td>\n",
       "      <td>-6.789</td>\n",
       "      <td>0.3530</td>\n",
       "      <td>126.998</td>\n",
       "      <td>0.274</td>\n",
       "      <td>G#/Ab</td>\n",
       "      <td>4</td>\n",
       "      <td>2020</td>\n",
       "      <td>pop</td>\n",
       "    </tr>\n",
       "    <tr>\n",
       "      <th>97</th>\n",
       "      <td>Slide</td>\n",
       "      <td>Slide</td>\n",
       "      <td>H.E.R.</td>\n",
       "      <td>2019-09-27</td>\n",
       "      <td>238321</td>\n",
       "      <td>70</td>\n",
       "      <td>0.08070</td>\n",
       "      <td>0.832</td>\n",
       "      <td>0.469</td>\n",
       "      <td>0.000008</td>\n",
       "      <td>0.2070</td>\n",
       "      <td>-9.141</td>\n",
       "      <td>0.3390</td>\n",
       "      <td>97.023</td>\n",
       "      <td>0.197</td>\n",
       "      <td>A#/Bb</td>\n",
       "      <td>4</td>\n",
       "      <td>2020</td>\n",
       "      <td>pop</td>\n",
       "    </tr>\n",
       "    <tr>\n",
       "      <th>98</th>\n",
       "      <td>Walk Em Down (feat. Roddy Ricch)</td>\n",
       "      <td>Walk Em Down (feat. Roddy Ricch)</td>\n",
       "      <td>NLE Choppa</td>\n",
       "      <td>2020-03-19</td>\n",
       "      <td>173288</td>\n",
       "      <td>75</td>\n",
       "      <td>0.26800</td>\n",
       "      <td>0.867</td>\n",
       "      <td>0.744</td>\n",
       "      <td>0.000000</td>\n",
       "      <td>0.0713</td>\n",
       "      <td>-5.171</td>\n",
       "      <td>0.2270</td>\n",
       "      <td>84.005</td>\n",
       "      <td>0.645</td>\n",
       "      <td>D</td>\n",
       "      <td>4</td>\n",
       "      <td>2020</td>\n",
       "      <td>pop</td>\n",
       "    </tr>\n",
       "  </tbody>\n",
       "</table>\n",
       "</div>"
      ],
      "text/plain": [
       "                                name                             album  \\\n",
       "94             More Than My Hometown       Dangerous: The Double Album   \n",
       "95                     Lovin' On You      What You See Is What You Get   \n",
       "96                          Said Sum                          Code Red   \n",
       "97                             Slide                             Slide   \n",
       "98  Walk Em Down (feat. Roddy Ricch)  Walk Em Down (feat. Roddy Ricch)   \n",
       "\n",
       "           artist release_date  length  popularity  acousticness  \\\n",
       "94  Morgan Wallen   2021-01-08  216573          79       0.61500   \n",
       "95     Luke Combs   2019-11-08  194866          72       0.00165   \n",
       "96   Moneybagg Yo   2020-09-18  155168          71       0.01850   \n",
       "97         H.E.R.   2019-09-27  238321          70       0.08070   \n",
       "98     NLE Choppa   2020-03-19  173288          75       0.26800   \n",
       "\n",
       "    danceability  energy  instrumentalness  liveness  loudness  speechiness  \\\n",
       "94         0.620   0.869          0.000000    0.1310    -5.479       0.0462   \n",
       "95         0.572   0.949          0.000195    0.1630    -4.865       0.0600   \n",
       "96         0.929   0.667          0.000000    0.1000    -6.789       0.3530   \n",
       "97         0.832   0.469          0.000008    0.2070    -9.141       0.3390   \n",
       "98         0.867   0.744          0.000000    0.0713    -5.171       0.2270   \n",
       "\n",
       "      tempo  valence    key  time_signature playlist genre  \n",
       "94  126.019    0.597  F#/Gb               4     2020   pop  \n",
       "95  118.974    0.530      E               4     2020   pop  \n",
       "96  126.998    0.274  G#/Ab               4     2020   pop  \n",
       "97   97.023    0.197  A#/Bb               4     2020   pop  \n",
       "98   84.005    0.645      D               4     2020   pop  "
      ]
     },
     "execution_count": 36,
     "metadata": {},
     "output_type": "execute_result"
    }
   ],
   "source": [
    "pop_comb.tail()"
   ]
  },
  {
   "cell_type": "code",
   "execution_count": 37,
   "id": "9ac0de34",
   "metadata": {},
   "outputs": [],
   "source": [
    "pop_comb.to_csv(\"./data/pop_by_decade.csv\")"
   ]
  },
  {
   "cell_type": "code",
   "execution_count": null,
   "id": "f09b1554",
   "metadata": {},
   "outputs": [],
   "source": []
  }
 ],
 "metadata": {
  "kernelspec": {
   "display_name": "Python 3",
   "language": "python",
   "name": "python3"
  },
  "language_info": {
   "codemirror_mode": {
    "name": "ipython",
    "version": 3
   },
   "file_extension": ".py",
   "mimetype": "text/x-python",
   "name": "python",
   "nbconvert_exporter": "python",
   "pygments_lexer": "ipython3",
   "version": "3.8.8"
  }
 },
 "nbformat": 4,
 "nbformat_minor": 5
}
